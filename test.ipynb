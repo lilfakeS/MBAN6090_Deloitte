{
 "cells": [
  {
   "cell_type": "code",
   "execution_count": 1,
   "metadata": {},
   "outputs": [
    {
     "name": "stderr",
     "output_type": "stream",
     "text": [
      "/var/folders/jh/lwh9h51151s6_693cw5_28cr0000gn/T/ipykernel_1237/500387247.py:1: DeprecationWarning: \n",
      "Pyarrow will become a required dependency of pandas in the next major release of pandas (pandas 3.0),\n",
      "(to allow more performant data types, such as the Arrow string type, and better interoperability with other libraries)\n",
      "but was not found to be installed on your system.\n",
      "If this would cause problems for you,\n",
      "please provide us feedback at https://github.com/pandas-dev/pandas/issues/54466\n",
      "        \n",
      "  import pandas as pd\n"
     ]
    }
   ],
   "source": [
    "import pandas as pd\n",
    "\n",
    "# Load the dataset\n",
    "gps_data = pd.read_csv('https://raw.githubusercontent.com/lilfakeS/MBAN6090_Deloitte/main/GPS_Data_Version3_CLEANED_FOR_BOT.csv')\n",
    "\n"
   ]
  },
  {
   "cell_type": "code",
   "execution_count": 25,
   "metadata": {},
   "outputs": [
    {
     "data": {
      "text/plain": [
       "6081981.0"
      ]
     },
     "execution_count": 25,
     "metadata": {},
     "output_type": "execute_result"
    }
   ],
   "source": [
    "# What is the total Employment number in Ontario in September 2019? \n",
    "\n",
    "# Filter the data for Ontario, September 2019\n",
    "ontario_sep_2019 = gps_data[(gps_data['Provinces'] == 'Ontario') & (gps_data['Year'] == 2019) & (gps_data['Month'] == 'Sep')]\n",
    "\n",
    "# Calculate the total employment number\n",
    "total_employment_ontario_sep_2019 = ontario_sep_2019['Employment for all employees'].sum()\n",
    "\n",
    "total_employment_ontario_sep_2019\n"
   ]
  },
  {
   "cell_type": "code",
   "execution_count": 26,
   "metadata": {},
   "outputs": [
    {
     "data": {
      "text/plain": [
       "('Ontario', 6205751.0)"
      ]
     },
     "execution_count": 26,
     "metadata": {},
     "output_type": "execute_result"
    }
   ],
   "source": [
    "# Which province has the highest employment for 2022? \n",
    "\n",
    "# Filter the data for the year 2022\n",
    "data_2022 = gps_data[gps_data['Year'] == 2022]\n",
    "\n",
    "# Summing up all industries' employees for each province within 2022\n",
    "employment_sum_2022 = data_2022.groupby('Provinces')['Employment for all employees'].sum()\n",
    "\n",
    "# Identifying the province with the highest total employment in 2022\n",
    "province_highest_employment_2022 = employment_sum_2022.idxmax()\n",
    "highest_employment_value_2022 = employment_sum_2022.max()\n",
    "\n",
    "province_highest_employment_2022, highest_employment_value_2022/12\n",
    "\n"
   ]
  },
  {
   "cell_type": "code",
   "execution_count": 4,
   "metadata": {},
   "outputs": [
    {
     "data": {
      "text/plain": [
       "88801.0"
      ]
     },
     "execution_count": 4,
     "metadata": {},
     "output_type": "execute_result"
    }
   ],
   "source": [
    "# How many businesses were active in the Health care and social assistance industry in January 2016 across Canada? \n",
    "\n",
    "# Filter the data for January 2016 and the Health care and social assistance industry\n",
    "health_care_jan_2016 = gps_data[(gps_data['Year'] == 2016) & (gps_data['Month'] == 'Jan') & \n",
    "                                (gps_data['Industry'] == 'Health care and social assistance')]\n",
    "\n",
    "# Calculate the total number of active businesses\n",
    "total_active_businesses_health_care_jan_2016 = health_care_jan_2016['Active businesses'].sum()\n",
    "\n",
    "total_active_businesses_health_care_jan_2016\n"
   ]
  },
  {
   "cell_type": "code",
   "execution_count": 5,
   "metadata": {},
   "outputs": [
    {
     "data": {
      "text/plain": [
       "318.5201412429379"
      ]
     },
     "execution_count": 5,
     "metadata": {},
     "output_type": "execute_result"
    }
   ],
   "source": [
    "# What is the Average weekly earnings for Art, Entertainment and Recreation? \n",
    "\n",
    "# Filter the data for the Art, Entertainment and Recreation industry\n",
    "art_entertainment_recreation = gps_data[gps_data['Industry'] == 'Arts, entertainment and recreation']\n",
    "\n",
    "# Calculate the average of the average weekly earnings\n",
    "average_weekly_earnings_art_entertainment = art_entertainment_recreation['Average weekly earnings including overtime for all employees'].mean()\n",
    "\n",
    "average_weekly_earnings_art_entertainment\n"
   ]
  },
  {
   "cell_type": "code",
   "execution_count": 6,
   "metadata": {},
   "outputs": [
    {
     "data": {
      "text/plain": [
       "(194406.37037037036, 179239.6064814815, -15166.763888888876)"
      ]
     },
     "execution_count": 6,
     "metadata": {},
     "output_type": "execute_result"
    }
   ],
   "source": [
    "# What is the net growth of employment in Quebec from 2019 to 2020? \n",
    "\n",
    "# To calculate the net growth of employment in Quebec from 2019 to 2020, we will find the total employment\n",
    "# for each year and then subtract the 2019 total from the 2020 total.\n",
    "\n",
    "# Filter the data for Quebec in 2019 and 2020\n",
    "quebec_2019 = gps_data[(gps_data['Provinces'] == 'Quebec') & (gps_data['Year'] == 2019)]\n",
    "quebec_2020 = gps_data[(gps_data['Provinces'] == 'Quebec') & (gps_data['Year'] == 2020)]\n",
    "\n",
    "# Calculate the average monthly total employment for Quebec for 2019 and 2020\n",
    "average_employment_quebec_2019 = quebec_2019['Employment for all employees'].mean()\n",
    "average_employment_quebec_2020 = quebec_2020['Employment for all employees'].mean()\n",
    "\n",
    "# Calculate the net growth\n",
    "net_growth_average_quebec_2019_2020 = average_employment_quebec_2020 - average_employment_quebec_2019\n",
    "\n",
    "average_employment_quebec_2019, average_employment_quebec_2020, net_growth_average_quebec_2019_2020\n"
   ]
  },
  {
   "cell_type": "code",
   "execution_count": 7,
   "metadata": {},
   "outputs": [
    {
     "data": {
      "text/plain": [
       "('Finance and insurance and Management of companies and enterprises',\n",
       " 1411.7841251778093)"
      ]
     },
     "execution_count": 7,
     "metadata": {},
     "output_type": "execute_result"
    }
   ],
   "source": [
    "# Which industry has the highest weekly earnings across Canada? \n",
    "\n",
    "# Group the data by industry and calculate the average of the average weekly earnings for each industry\n",
    "average_weekly_earnings_by_industry = gps_data.groupby('Industry')['Average weekly earnings including overtime for all employees'].mean()\n",
    "\n",
    "# Find the industry with the highest average weekly earnings\n",
    "industry_highest_earnings = average_weekly_earnings_by_industry.idxmax()\n",
    "highest_average_weekly_earnings = average_weekly_earnings_by_industry.max()\n",
    "\n",
    "industry_highest_earnings, highest_average_weekly_earnings\n"
   ]
  },
  {
   "cell_type": "code",
   "execution_count": 8,
   "metadata": {},
   "outputs": [
    {
     "data": {
      "text/plain": [
       "6228.0"
      ]
     },
     "execution_count": 8,
     "metadata": {},
     "output_type": "execute_result"
    }
   ],
   "source": [
    "# How many Real estate and rental and leasing businesses closed in 2020 in British Columbia?   \n",
    "\n",
    "# Filter the data for Real estate and rental and leasing businesses that closed in 2020 in British Columbia\n",
    "real_estate_bc_2020 = gps_data[(gps_data['Provinces'] == 'British Columbia') & \n",
    "                                (gps_data['Year'] == 2020) & \n",
    "                                (gps_data['Industry'] == 'Real estate and rental and leasing')]\n",
    "\n",
    "# Sum the number of businesses that closed in 2020\n",
    "total_closed_real_estate_bc_2020 = real_estate_bc_2020['Closing businesses'].sum()\n",
    "\n",
    "total_closed_real_estate_bc_2020\n"
   ]
  },
  {
   "cell_type": "code",
   "execution_count": 10,
   "metadata": {},
   "outputs": [
    {
     "data": {
      "text/plain": [
       "(583.1465706239169, 623.8611038394415, 40.714533215524625)"
      ]
     },
     "execution_count": 10,
     "metadata": {},
     "output_type": "execute_result"
    }
   ],
   "source": [
    "# What is the weekly earning difference between 2020 and 2022? \n",
    "\n",
    "# Calculate the average weekly earnings for 2020 and 2022\n",
    "average_weekly_earnings_2020 = gps_data[gps_data['Year'] == 2020]['Average weekly earnings including overtime for all employees'].mean()\n",
    "average_weekly_earnings_2022 = gps_data[gps_data['Year'] == 2022]['Average weekly earnings including overtime for all employees'].mean()\n",
    "\n",
    "# Calculate the difference in average weekly earnings between 2020 and 2022\n",
    "weekly_earnings_difference_2020_2022 = average_weekly_earnings_2022 - average_weekly_earnings_2020\n",
    "\n",
    "average_weekly_earnings_2020, average_weekly_earnings_2022, weekly_earnings_difference_2020_2022\n"
   ]
  },
  {
   "cell_type": "code",
   "execution_count": 28,
   "metadata": {},
   "outputs": [
    {
     "data": {
      "text/plain": [
       "('Ontario', -12544.0)"
      ]
     },
     "execution_count": 28,
     "metadata": {},
     "output_type": "execute_result"
    }
   ],
   "source": [
    "#### In 2020, which province has the lowest net growth in active business? \n",
    "\n",
    "\n",
    "# Filter the data for January and December of 2020\n",
    "data_2020_jan = gps_data[(gps_data['Year'] == 2020) & (gps_data['Month'] == 'Jan')]\n",
    "data_2020_dec = gps_data[(gps_data['Year'] == 2020) & (gps_data['Month'] == 'Dec')]\n",
    "\n",
    "# Group by province and calculate the active businesses for January and December\n",
    "active_businesses_jan_2020 = data_2020_jan.groupby('Provinces')['Active businesses'].sum()\n",
    "active_businesses_dec_2020 = data_2020_dec.groupby('Provinces')['Active businesses'].sum()\n",
    "\n",
    "# Calculate the net growth by subtracting January active businesses from December active businesses\n",
    "net_growth_2020 = active_businesses_dec_2020 - active_businesses_jan_2020\n",
    "\n",
    "# Find the province with the lowest net growth\n",
    "province_lowest_net_growth = net_growth_2020.idxmin()\n",
    "lowest_net_growth_value = net_growth_2020.min()\n",
    "\n",
    "province_lowest_net_growth, lowest_net_growth_value\n",
    "\n"
   ]
  },
  {
   "cell_type": "code",
   "execution_count": 17,
   "metadata": {},
   "outputs": [
    {
     "data": {
      "text/plain": [
       "('Ontario', 42517.0)"
      ]
     },
     "execution_count": 17,
     "metadata": {},
     "output_type": "execute_result"
    }
   ],
   "source": [
    "# Which province has the most construction businesses? \n",
    "\n",
    "# Filter the data for the last month of the last year available in the dataset for the Construction industry\n",
    "latest_year = gps_data['Year'].max()\n",
    "latest_month = gps_data[gps_data['Year'] == latest_year]['Month'].max()\n",
    "\n",
    "construction_latest = gps_data[(gps_data['Industry'] == 'Construction') & \n",
    "                               (gps_data['Year'] == latest_year) & \n",
    "                               (gps_data['Month'] == latest_month)]\n",
    "\n",
    "# Group by province and find the maximum number of active construction businesses\n",
    "construction_latest_by_province = construction_latest.groupby('Provinces')['Active businesses'].max()\n",
    "\n",
    "# Find the province with the most active construction businesses in the last month of the latest year\n",
    "province_most_construction_latest = construction_latest_by_province.idxmax()\n",
    "most_construction_businesses_latest = construction_latest_by_province.max()\n",
    "\n",
    "province_most_construction_latest, most_construction_businesses_latest\n",
    "\n"
   ]
  },
  {
   "cell_type": "code",
   "execution_count": 29,
   "metadata": {},
   "outputs": [
    {
     "data": {
      "text/plain": [
       "-21196.0"
      ]
     },
     "execution_count": 29,
     "metadata": {},
     "output_type": "execute_result"
    }
   ],
   "source": [
    "#### Did the number of businesses decrease overall during the year 2020?\n",
    "\n",
    "# Calculate the total active businesses in Canada for January and December of 2020\n",
    "total_active_businesses_jan_2020 = active_businesses_jan_2020.sum()\n",
    "total_active_businesses_dec_2020 = active_businesses_dec_2020.sum()\n",
    "\n",
    "# Calculate the overall net change in active businesses during 2020\n",
    "overall_net_change_2020 = total_active_businesses_dec_2020 - total_active_businesses_jan_2020\n",
    "\n",
    "overall_net_change_2020\n",
    "\n"
   ]
  },
  {
   "cell_type": "code",
   "execution_count": 19,
   "metadata": {},
   "outputs": [
    {
     "data": {
      "text/plain": [
       "('Retail trade', 149830.37820512822)"
      ]
     },
     "execution_count": 19,
     "metadata": {},
     "output_type": "execute_result"
    }
   ],
   "source": [
    "# Which industry had the most employment in 2016? \n",
    "\n",
    "# Filter the data for the year 2016\n",
    "data_2016 = gps_data[gps_data['Year'] == 2016]\n",
    "\n",
    "# Group by industry and calculate the average employment for 2016\n",
    "average_employment_by_industry_2016 = data_2016.groupby('Industry')['Employment for all employees'].mean()\n",
    "\n",
    "# Find the industry with the highest average employment\n",
    "industry_highest_average_employment_2016 = average_employment_by_industry_2016.idxmax()\n",
    "highest_average_employment_2016 = average_employment_by_industry_2016.max()\n",
    "\n",
    "industry_highest_average_employment_2016, highest_average_employment_2016\n",
    "\n",
    "\n"
   ]
  },
  {
   "cell_type": "code",
   "execution_count": 20,
   "metadata": {},
   "outputs": [
    {
     "data": {
      "text/plain": [
       "('Retail trade', 182380.5)"
      ]
     },
     "execution_count": 20,
     "metadata": {},
     "output_type": "execute_result"
    }
   ],
   "source": [
    "# Does the industry still have the highest employment in 2022?\n",
    "\n",
    "# Filter the data for the year 2022\n",
    "data_2022 = gps_data[gps_data['Year'] == 2022]\n",
    "\n",
    "# Group by industry and calculate the average employment for 2022\n",
    "average_employment_by_industry_2022 = data_2022.groupby('Industry')['Employment for all employees'].mean()\n",
    "\n",
    "# Find the industry with the highest average employment in 2022\n",
    "industry_highest_average_employment_2022 = average_employment_by_industry_2022.idxmax()\n",
    "highest_average_employment_2022 = average_employment_by_industry_2022.max()\n",
    "\n",
    "industry_highest_average_employment_2022, highest_average_employment_2022\n"
   ]
  },
  {
   "cell_type": "code",
   "execution_count": 21,
   "metadata": {},
   "outputs": [
    {
     "data": {
      "text/plain": [
       "(-414.0, -0.04283940397350993)"
      ]
     },
     "execution_count": 21,
     "metadata": {},
     "output_type": "execute_result"
    }
   ],
   "source": [
    "# What is the net growth rate of Education services in 2020?\n",
    "\n",
    "# Filter the data for Educational services in the first and last month of 2020\n",
    "education_services_jan_2020 = gps_data[(gps_data['Industry'] == 'Educational services') & (gps_data['Year'] == 2020) & (gps_data['Month'] == 'Jan')]\n",
    "education_services_dec_2020 = gps_data[(gps_data['Industry'] == 'Educational services') & (gps_data['Year'] == 2020) & (gps_data['Month'] == 'Dec')]\n",
    "\n",
    "# Calculate the net growth of Education services by subtracting the active businesses in December from January\n",
    "net_growth_education_2020 = education_services_dec_2020['Active businesses'].sum() - education_services_jan_2020['Active businesses'].sum()\n",
    "\n",
    "# Calculate the net growth rate for Education services in 2020\n",
    "# Net growth rate is calculated as (Net Growth) / (Active businesses at the beginning of the period)\n",
    "initial_active_businesses_education_2020 = education_services_jan_2020['Active businesses'].sum()\n",
    "net_growth_rate_education_2020 = net_growth_education_2020 / initial_active_businesses_education_2020\n",
    "\n",
    "net_growth_education_2020, net_growth_rate_education_2020\n"
   ]
  },
  {
   "cell_type": "code",
   "execution_count": 22,
   "metadata": {},
   "outputs": [
    {
     "name": "stderr",
     "output_type": "stream",
     "text": [
      "/var/folders/jh/lwh9h51151s6_693cw5_28cr0000gn/T/ipykernel_1237/3255166163.py:18: DeprecationWarning: DataFrameGroupBy.apply operated on the grouping columns. This behavior is deprecated, and in a future version of pandas the grouping columns will be excluded from the operation. Either pass `include_groups=False` to exclude the groupings or explicitly select the grouping columns after groupby to silence this warning.\n",
      "  quarterly_growth = data_2017.groupby('Quarter').apply(\n"
     ]
    },
    {
     "data": {
      "text/plain": [
       "('Q2', 0.007921414953441577)"
      ]
     },
     "execution_count": 22,
     "metadata": {},
     "output_type": "execute_result"
    }
   ],
   "source": [
    "# In 2017, which quarter had the highest growth rate in all industries across Canada?\n",
    "\n",
    "# For each quarter in 2017, we'll calculate the net growth rate, which is the sum of net growth (openings minus closings)\n",
    "# divided by the total active businesses at the start of the quarter.\n",
    "\n",
    "# First, map the months to quarters\n",
    "gps_data['Quarter'] = gps_data['Month'].map({\n",
    "    'Jan': 'Q1', 'Feb': 'Q1', 'Mar': 'Q1',\n",
    "    'Apr': 'Q2', 'May': 'Q2', 'Jun': 'Q2',\n",
    "    'Jul': 'Q3', 'Aug': 'Q3', 'Sep': 'Q3',\n",
    "    'Oct': 'Q4', 'Nov': 'Q4', 'Dec': 'Q4'\n",
    "})\n",
    "\n",
    "# Filter the data for the year 2017\n",
    "data_2017 = gps_data[gps_data['Year'] == 2017]\n",
    "\n",
    "# Calculate the sum of net growth for each quarter\n",
    "quarterly_growth = data_2017.groupby('Quarter').apply(\n",
    "    lambda x: (x['Opening businesses'] - x['Closing businesses']).sum())\n",
    "\n",
    "# Calculate the total active businesses at the start of each quarter\n",
    "# This will be the active businesses of the first month of each quarter\n",
    "active_start_quarter = data_2017[data_2017['Month'].isin(['Jan', 'Apr', 'Jul', 'Oct'])].groupby('Quarter')['Active businesses'].sum()\n",
    "\n",
    "# Calculate the net growth rate for each quarter\n",
    "growth_rate_2017 = (quarterly_growth / active_start_quarter)\n",
    "\n",
    "# Find the quarter with the highest growth rate\n",
    "highest_growth_rate_quarter_2017 = growth_rate_2017.idxmax()\n",
    "highest_growth_rate_2017 = growth_rate_2017.max()\n",
    "\n",
    "highest_growth_rate_quarter_2017, highest_growth_rate_2017\n",
    "\n"
   ]
  },
  {
   "cell_type": "code",
   "execution_count": 23,
   "metadata": {},
   "outputs": [
    {
     "data": {
      "text/plain": [
       "('Q1', 532.9744112478031)"
      ]
     },
     "execution_count": 23,
     "metadata": {},
     "output_type": "execute_result"
    }
   ],
   "source": [
    "# Following the last question, Which quarter had the lowest weekly earnings across Canada? \n",
    "\n",
    "# Calculate the average weekly earnings for each quarter in 2017 across all industries\n",
    "average_weekly_earnings_2017 = data_2017.groupby('Quarter')['Average weekly earnings including overtime for all employees'].mean()\n",
    "\n",
    "# Find the quarter with the lowest average weekly earnings\n",
    "lowest_earnings_quarter_2017 = average_weekly_earnings_2017.idxmin()\n",
    "lowest_average_weekly_earnings_2017 = average_weekly_earnings_2017.min()\n",
    "\n",
    "lowest_earnings_quarter_2017, lowest_average_weekly_earnings_2017\n"
   ]
  },
  {
   "cell_type": "code",
   "execution_count": 30,
   "metadata": {},
   "outputs": [
    {
     "data": {
      "text/plain": [
       "2"
      ]
     },
     "execution_count": 30,
     "metadata": {},
     "output_type": "execute_result"
    }
   ],
   "source": [
    "# How many months in 2015 had negative net growth across Ontario? \n",
    "\n",
    "# Filter the dataset for Ontario in the year 2015\n",
    "ontario_2015_data = gps_data[(gps_data['Provinces'] == 'Ontario') & (gps_data['Year'] == 2015)]\n",
    "\n",
    "# Group Ontario 2015 data by month and sum up all active businesses for every industry\n",
    "active_businesses_ontario_2015 = ontario_2015_data.groupby('Month')['Active businesses'].sum()\n",
    "\n",
    "# Sort the months in calendar order since they are currently in string format\n",
    "months_in_order = ['Jan', 'Feb', 'Mar', 'Apr', 'May', 'Jun', 'Jul', 'Aug', 'Sep', 'Oct', 'Nov', 'Dec']\n",
    "active_businesses_ontario_2015 = active_businesses_ontario_2015.reindex(months_in_order)\n",
    "\n",
    "# Calculate the difference in active businesses between each month to find the net growth\n",
    "net_growth_ontario_2015 = active_businesses_ontario_2015.diff().dropna()\n",
    "\n",
    "# Count the number of months with negative net growth\n",
    "negative_growth_count_2015 = (net_growth_ontario_2015 < 0).sum()\n",
    "\n",
    "negative_growth_count_2015\n"
   ]
  },
  {
   "cell_type": "code",
   "execution_count": 24,
   "metadata": {},
   "outputs": [
    {
     "data": {
      "text/plain": [
       "('Professional, scientific and technical services', 48350.416666666664)"
      ]
     },
     "execution_count": 24,
     "metadata": {},
     "output_type": "execute_result"
    }
   ],
   "source": [
    "# Which industry had the most Active Businesses in 2017 in Ontario? \n",
    "\n",
    "# Filter the data for the year 2017 and province Ontario\n",
    "data_ontario_2017 = gps_data[(gps_data['Year'] == 2017) & (gps_data['Provinces'] == 'Ontario')]\n",
    "\n",
    "# Group by industry and find the average number of active businesses for 2017\n",
    "active_businesses_ontario_2017 = data_ontario_2017.groupby('Industry')['Active businesses'].mean()\n",
    "\n",
    "# Find the industry with the most active businesses in 2017 in Ontario\n",
    "industry_most_active_businesses_ontario_2017 = active_businesses_ontario_2017.idxmax()\n",
    "most_active_businesses_ontario_2017 = active_businesses_ontario_2017.max()\n",
    "\n",
    "industry_most_active_businesses_ontario_2017, most_active_businesses_ontario_2017\n"
   ]
  }
 ],
 "metadata": {
  "kernelspec": {
   "display_name": "Python 3",
   "language": "python",
   "name": "python3"
  },
  "language_info": {
   "codemirror_mode": {
    "name": "ipython",
    "version": 3
   },
   "file_extension": ".py",
   "mimetype": "text/x-python",
   "name": "python",
   "nbconvert_exporter": "python",
   "pygments_lexer": "ipython3",
   "version": "3.11.6"
  }
 },
 "nbformat": 4,
 "nbformat_minor": 2
}
